{
 "cells": [
  {
   "cell_type": "markdown",
   "metadata": {},
   "source": [
    "## ndarray的基本索引"
   ]
  },
  {
   "cell_type": "code",
   "execution_count": 26,
   "metadata": {},
   "outputs": [
    {
     "name": "stdout",
     "output_type": "stream",
     "text": [
      "ndarray的基本索引\n",
      "[1 2]\n",
      "2\n",
      "2\n",
      "(2, 2, 2)\n",
      "[[1 2]\n",
      " [3 4]]\n",
      "[[1 2]\n",
      " [3 4]]\n",
      "1\n",
      "[[0 2]\n",
      " [3 4]]\n",
      "[[-1  2]\n",
      " [ 3  4]]\n",
      "[[-1  2]\n",
      " [ 3  4]]\n"
     ]
    }
   ],
   "source": [
    "import numpy \n",
    "print('ndarray的基本索引')\n",
    "x = numpy.array([[1,2],[3,4],[5,6]])\n",
    "print(x[0]) # [1,2]\n",
    "print(x[0][1]) # 2,普通python数组的索引\n",
    "print(x[0,1]) # 同x[0][1]，ndarray数组的索引\n",
    "x = numpy.array([[[1, 2], [3,4]], [[5, 6], [7,8]]])\n",
    "print(x.shape)\n",
    "print(x[0]) # [[1 2],[3 4]]\n",
    "y = x[0].copy() # 生成一个副本\n",
    "z = x[0] # 未生成一个副本\n",
    "print(y) #  [[1 2],[3 4]]\n",
    "print(y[0,0]) # 1\n",
    "y[0,0] = 0 \n",
    "z[0,0] = -1\n",
    "print(y) # [[0 2],[3 4]]\n",
    "print(x[0]) # [[-1 2],[3 4]]\n",
    "print(z) # [[-1 2],[3 4]]\n",
    "\n",
    "\n",
    "x = np.array([[1,2], [3,4], [5,6]])\n",
    "print(x[:2])\n",
    "print(x[:2][:1])\n",
    "print(x[:2,:1])\n",
    "x[:2,:1] = np.empty([2,1])# [[8],[9]]\n",
    "print(x)\n",
    "print(np.empty([2,1]))"
   ]
  },
  {
   "cell_type": "markdown",
   "metadata": {},
   "source": [
    "## ndarray 条件索引"
   ]
  },
  {
   "cell_type": "code",
   "execution_count": 41,
   "metadata": {},
   "outputs": [
    {
     "name": "stdout",
     "output_type": "stream",
     "text": [
      "(5,)\n",
      "[ True False False False False]\n",
      "['c' 'd' 'e']\n",
      "['a' 'b']\n"
     ]
    }
   ],
   "source": [
    "print('ndarray 条件索引')\n",
    "import numpy as np\n",
    "npa = np.array(['a','b','c','d','e'])\n",
    "print(npa.shape)\n",
    "print(npa == 'a')\n",
    "print(npa[npa>='c'])\n",
    "print(npa[:2])\n",
    "# a[(a=='c')]"
   ]
  },
  {
   "cell_type": "markdown",
   "metadata": {},
   "source": [
    "## numpy 线性代数"
   ]
  },
  {
   "cell_type": "code",
   "execution_count": 90,
   "metadata": {},
   "outputs": [
    {
     "name": "stdout",
     "output_type": "stream",
     "text": [
      "numpy 线性代数\n",
      "矩阵点乘\n",
      "[[ 5 11]\n",
      " [11 25]]\n",
      "[[ 5 11]\n",
      " [11 25]]\n",
      "矩阵乘法\n",
      "[[ 1  6]\n",
      " [ 6 16]]\n",
      "[[2 5]\n",
      " [5 8]]\n",
      "[[ 0 -1]\n",
      " [ 1  0]]\n",
      "[[1.         0.66666667]\n",
      " [1.5        1.        ]]\n"
     ]
    }
   ],
   "source": [
    "print('numpy 线性代数')\n",
    "# import numpy.linalg as nla\n",
    "print('矩阵点乘')\n",
    "x = numpy.array([[1,2],[3,4]])\n",
    "y = numpy.array([[1,3],[2,4]])\n",
    "print(x.dot(y)) # [[ 5 11][11 25]]\n",
    "print(numpy.dot(x,y)) # # [[ 5 11][11 25]]\n",
    "print('矩阵乘法')\n",
    "print(x * y)\n",
    "print(x + y)\n",
    "print(x - y)\n",
    "print(x / y)"
   ]
  },
  {
   "cell_type": "markdown",
   "metadata": {},
   "source": [
    " ## ndarray 排序"
   ]
  },
  {
   "cell_type": "code",
   "execution_count": 100,
   "metadata": {},
   "outputs": [
    {
     "name": "stdout",
     "output_type": "stream",
     "text": [
      "ndarray 排序\n",
      "[[1 1 2]\n",
      " [1 5 2]\n",
      " [6 6 3]]\n",
      "[[1 1 2]\n",
      " [1 2 5]\n",
      " [3 6 6]]\n"
     ]
    }
   ],
   "source": [
    "print('ndarray 排序')\n",
    "x = numpy.array([[1,6,2],[6,1,3],[1,5,2]])\n",
    "x.sort(axis=0)\n",
    "print(x)\n",
    "x.sort(axis=1)\n",
    "print(x)"
   ]
  },
  {
   "cell_type": "markdown",
   "metadata": {},
   "source": [
    "## ndarray的唯一化运算"
   ]
  },
  {
   "cell_type": "code",
   "execution_count": 93,
   "metadata": {},
   "outputs": [
    {
     "name": "stdout",
     "output_type": "stream",
     "text": [
      "ndarray的唯一化运算\n",
      "[1 2 3 5 6]\n"
     ]
    }
   ],
   "source": [
    "print('ndarray的唯一化运算')\n",
    "x = numpy.array([[1,6,2],[6,1,3],[1,5,2]])\n",
    "print(numpy.unique(x))"
   ]
  }
 ],
 "metadata": {
  "hide_input": false,
  "kernelspec": {
   "display_name": "Python 3",
   "language": "python",
   "name": "python3"
  },
  "language_info": {
   "codemirror_mode": {
    "name": "ipython",
    "version": 3
   },
   "file_extension": ".py",
   "mimetype": "text/x-python",
   "name": "python",
   "nbconvert_exporter": "python",
   "pygments_lexer": "ipython3",
   "version": "3.6.4"
  },
  "toc": {
   "nav_menu": {},
   "number_sections": true,
   "sideBar": true,
   "skip_h1_title": false,
   "title_cell": "Table of Contents",
   "title_sidebar": "Contents",
   "toc_cell": false,
   "toc_position": {
    "height": "calc(100% - 180px)",
    "left": "10px",
    "top": "150px",
    "width": "288px"
   },
   "toc_section_display": true,
   "toc_window_display": true
  },
  "varInspector": {
   "cols": {
    "lenName": 16,
    "lenType": 16,
    "lenVar": 40
   },
   "kernels_config": {
    "python": {
     "delete_cmd_postfix": "",
     "delete_cmd_prefix": "del ",
     "library": "var_list.py",
     "varRefreshCmd": "print(var_dic_list())"
    },
    "r": {
     "delete_cmd_postfix": ") ",
     "delete_cmd_prefix": "rm(",
     "library": "var_list.r",
     "varRefreshCmd": "cat(var_dic_list()) "
    }
   },
   "types_to_exclude": [
    "module",
    "function",
    "builtin_function_or_method",
    "instance",
    "_Feature"
   ],
   "window_display": false
  }
 },
 "nbformat": 4,
 "nbformat_minor": 2
}
