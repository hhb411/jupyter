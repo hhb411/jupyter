{
 "cells": [
  {
   "cell_type": "markdown",
   "metadata": {},
   "source": [
    "## 基本操作"
   ]
  },
  {
   "cell_type": "code",
   "execution_count": 15,
   "metadata": {
    "scrolled": true
   },
   "outputs": [
    {
     "name": "stdout",
     "output_type": "stream",
     "text": [
      "(3, 4)\n",
      "b    int64\n",
      "a    int64\n",
      "d    int64\n",
      "c    int64\n",
      "dtype: object\n",
      "******* 访问 *******\n",
      "按行号访问\n",
      "     b  a  d  c\n",
      "two  3  1  4  5\n"
     ]
    }
   ],
   "source": [
    "import pandas as pd\n",
    "df = pd.DataFrame([[2,4,1,5],[3,1,4,5],[5,1,4,2]], columns=['b','a','d','c'], index=['one','two','three'])  \n",
    "print(df.shape)\n",
    "print(df.dtypes)\n",
    "\n",
    "print('******* 访问 *******')\n",
    "print('按行号访问')\n",
    "print(df.iloc[1:2])"
   ]
  },
  {
   "cell_type": "markdown",
   "metadata": {},
   "source": [
    "## 排序"
   ]
  },
  {
   "cell_type": "code",
   "execution_count": 3,
   "metadata": {},
   "outputs": [
    {
     "name": "stdout",
     "output_type": "stream",
     "text": [
      "Series:\n",
      "b    3\n",
      "a    4\n",
      "d    1\n",
      "c    6\n",
      "dtype: int64\n",
      "series通过索引进行排序：\n",
      "a    4\n",
      "b    3\n",
      "c    6\n",
      "d    1\n",
      "dtype: int64\n",
      "series通过值进行排序:\n",
      "d    1\n",
      "b    3\n",
      "a    4\n",
      "c    6\n",
      "dtype: int64\n",
      "\n",
      "---------------------------------------\n",
      "DataFrame:\n",
      "       b  a  d  c\n",
      "one    2  4  1  5\n",
      "two    3  1  4  5\n",
      "three  5  1  4  2\n",
      "dataframe根据行索引进行降序排序（排序时默认升序，调节ascending参数）：\n",
      "       b  a  d  c\n",
      "two    3  1  4  5\n",
      "three  5  1  4  2\n",
      "one    2  4  1  5\n",
      "dataframe根据列索引进行排序：\n",
      "       a  b  c  d\n",
      "one    4  2  5  1\n",
      "two    1  3  5  4\n",
      "three  1  5  2  4\n",
      "dataframe根据值进行排序：\n",
      "       b  a  d  c\n",
      "one    2  4  1  5\n",
      "two    3  1  4  5\n",
      "three  5  1  4  2\n",
      "通过多个索引进行排序：\n",
      "       b  a  d  c\n",
      "three  5  1  4  2\n",
      "two    3  1  4  5\n",
      "one    2  4  1  5\n"
     ]
    }
   ],
   "source": [
    "import pandas as pd\n",
    "import numpy as np  \n",
    "\n",
    "print('Series:')\n",
    "series = pd.Series([3,4,1,6], index=['b','a','d','c'])  \n",
    "print(series)  \n",
    "print('series通过索引进行排序：')  \n",
    "print(series.sort_index())  \n",
    "print('series通过值进行排序:')  \n",
    "print(series.sort_values())\n",
    "\n",
    "print('\\n---------------------------------------')\n",
    "print('DataFrame:')\n",
    "frame = pd.DataFrame([[2,4,1,5],[3,1,4,5],[5,1,4,2]], columns=['b','a','d','c'], index=['one','two','three'])  \n",
    "print(frame)\n",
    "print('dataframe根据行索引进行降序排序（排序时默认升序，调节ascending参数）：')  \n",
    "print(frame.sort_index(ascending=False))  \n",
    "print('dataframe根据列索引进行排序：')  \n",
    "print(frame.sort_index(axis=1))  \n",
    "print('dataframe根据值进行排序：')  \n",
    "print(frame.sort_values(by='a'))  \n",
    "print('通过多个索引进行排序：')  \n",
    "print(frame.sort_values(by=['a','c']))"
   ]
  }
 ],
 "metadata": {
  "hide_input": false,
  "kernelspec": {
   "display_name": "Python 3",
   "language": "python",
   "name": "python3"
  },
  "language_info": {
   "codemirror_mode": {
    "name": "ipython",
    "version": 3
   },
   "file_extension": ".py",
   "mimetype": "text/x-python",
   "name": "python",
   "nbconvert_exporter": "python",
   "pygments_lexer": "ipython3",
   "version": "3.6.4"
  },
  "toc": {
   "nav_menu": {},
   "number_sections": true,
   "sideBar": true,
   "skip_h1_title": false,
   "title_cell": "Table of Contents",
   "title_sidebar": "Contents",
   "toc_cell": false,
   "toc_position": {},
   "toc_section_display": true,
   "toc_window_display": true
  },
  "varInspector": {
   "cols": {
    "lenName": 16,
    "lenType": 16,
    "lenVar": 40
   },
   "kernels_config": {
    "python": {
     "delete_cmd_postfix": "",
     "delete_cmd_prefix": "del ",
     "library": "var_list.py",
     "varRefreshCmd": "print(var_dic_list())"
    },
    "r": {
     "delete_cmd_postfix": ") ",
     "delete_cmd_prefix": "rm(",
     "library": "var_list.r",
     "varRefreshCmd": "cat(var_dic_list()) "
    }
   },
   "types_to_exclude": [
    "module",
    "function",
    "builtin_function_or_method",
    "instance",
    "_Feature"
   ],
   "window_display": false
  }
 },
 "nbformat": 4,
 "nbformat_minor": 2
}
